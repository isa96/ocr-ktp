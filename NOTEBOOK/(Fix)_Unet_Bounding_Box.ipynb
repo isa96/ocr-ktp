{
  "cells": [
    {
      "cell_type": "code",
      "execution_count": 1,
      "metadata": {
        "id": "K3K7thyC0mv-"
      },
      "outputs": [],
      "source": [
        "import numpy as np\n",
        "import matplotlib.pyplot as plt\n",
        "import cv2\n",
        "import os\n",
        "from tensorflow.keras.layers import *\n",
        "from tensorflow.keras.models import *\n",
        "from tensorflow.keras.optimizers import Adam\n",
        "from sklearn.model_selection import train_test_split\n",
        "# from google.colab import drive"
      ]
    },
    {
      "cell_type": "code",
      "execution_count": null,
      "metadata": {
        "colab": {
          "base_uri": "https://localhost:8080/"
        },
        "id": "rvqLnqu_fdQu",
        "outputId": "2de61c5d-a197-4a09-b164-b7b1ddc3cf5c"
      },
      "outputs": [
        {
          "name": "stdout",
          "output_type": "stream",
          "text": [
            "Mounted at /content/drive\n"
          ]
        }
      ],
      "source": [
        "# drive.mount('/content/drive')"
      ]
    },
    {
      "cell_type": "code",
      "execution_count": null,
      "metadata": {
        "id": "6Me6mn0Vf8WL"
      },
      "outputs": [],
      "source": [
        "# !sudo add-apt-repository -y ppa:alessandro-strada/ppa 2>&1 > /dev/null\n",
        "# !sudo apt-get update -qq 2>&1 > /dev/null\n",
        "# !sudo apt -y install -qq google-drive-ocamlfuse 2>&1 > /dev/null\n",
        "# !google-drive-ocamlfuse"
      ]
    },
    {
      "cell_type": "code",
      "execution_count": null,
      "metadata": {
        "id": "IM0b1wnkf-V_"
      },
      "outputs": [],
      "source": [
        "# !sudo apt-get install -qq w3m # to act as web browser \n",
        "# !xdg-settings set default-web-browser w3m.desktop # to set default browser\n",
        "# %cd /content\n",
        "# !mkdir drive\n",
        "# %cd drive\n",
        "# !mkdir MyDrive\n",
        "# %cd ..\n",
        "# %cd ..\n",
        "# !google-drive-ocamlfuse /content/drive/MyDrive"
      ]
    },
    {
      "cell_type": "code",
      "execution_count": null,
      "metadata": {
        "id": "Nc0jw4G2rmPo"
      },
      "outputs": [],
      "source": [
        "source = '/content/drive/MyDrive/ML Capstone Bangkit/dataset_ktp'\n",
        "#path into train and test images\n",
        "train_images = os.path.join(source, 'image')\n",
        "train_annotations = os.path.join(source, 'mask')"
      ]
    },
    {
      "cell_type": "code",
      "execution_count": null,
      "metadata": {
        "id": "kFgU6jT6roQl"
      },
      "outputs": [],
      "source": [
        "sorted_image = sorted(os.listdir(train_images))\n",
        "sorted_mask = sorted(os.listdir(train_annotations))"
      ]
    },
    {
      "cell_type": "code",
      "execution_count": null,
      "metadata": {
        "id": "jsXqX6NidJ0f"
      },
      "outputs": [],
      "source": [
        "img_size = 512"
      ]
    },
    {
      "cell_type": "code",
      "execution_count": null,
      "metadata": {
        "id": "JoArvZGD040Z"
      },
      "outputs": [],
      "source": [
        "def get_segmented_img(img):\n",
        "  \n",
        "    labels=np.zeros((img_size,img_size,1))\n",
        "    img=cv2.resize(img,(img_size,img_size))\n",
        "    img=img[:,:,0]\n",
        "    labels[:,:,0]=(img!=0).astype(int)\n",
        "\n",
        "\n",
        "    return labels"
      ]
    },
    {
      "cell_type": "code",
      "execution_count": null,
      "metadata": {
        "id": "n_SKx-Ffr9_J"
      },
      "outputs": [],
      "source": [
        "x = []\n",
        "y = []\n",
        "\n",
        "for index in range (len(os.listdir(train_images))):\n",
        "    img = cv2.imread(os.path.join(train_images, sorted_image[index]))\n",
        "    img = cv2.cvtColor(img, cv2.COLOR_BGR2GRAY)\n",
        "    ret,img=cv2.threshold(img,150,255,cv2.THRESH_BINARY_INV)\n",
        "    img=cv2.resize(img,(img_size,img_size))\n",
        "    img=np.expand_dims(img,axis=-1)\n",
        "    img=img/255\n",
        "    \n",
        "    annotation = cv2.imread(os.path.join(train_annotations, sorted_mask[index]))\n",
        "    annotation = cv2.cvtColor(annotation, cv2.COLOR_BGR2GRAY)\n",
        "    annotation=cv2.resize(annotation,(img_size,img_size))\n",
        "    annotation = np.stack((annotation,)*3, axis=-1)\n",
        "    annotation =get_segmented_img(annotation)\n",
        "    \n",
        "    x.append(img)\n",
        "    y.append(annotation)"
      ]
    },
    {
      "cell_type": "code",
      "execution_count": null,
      "metadata": {
        "id": "X9KcELPgsvd3"
      },
      "outputs": [],
      "source": [
        "# Split Dataset\n",
        "x_train, x_test, y_train, y_test = train_test_split(x, y, train_size = 0.7, random_state = 1)\n",
        "\n",
        "x_train = np.array(x_train)\n",
        "x_test = np.array(x_test)\n",
        "\n",
        "y_train = np.array(y_train)\n",
        "y_test = np.array(y_test)"
      ]
    },
    {
      "cell_type": "code",
      "execution_count": null,
      "metadata": {
        "colab": {
          "base_uri": "https://localhost:8080/"
        },
        "id": "3Zty2rBnk2QE",
        "outputId": "5b3d7977-8a8a-4548-f0b9-2f220ec033db"
      },
      "outputs": [
        {
          "name": "stdout",
          "output_type": "stream",
          "text": [
            "(280, 512, 512, 1)\n",
            "(120, 512, 512, 1)\n"
          ]
        }
      ],
      "source": [
        "print(x_train.shape)\n",
        "print(x_test.shape)"
      ]
    },
    {
      "cell_type": "code",
      "execution_count": null,
      "metadata": {
        "colab": {
          "base_uri": "https://localhost:8080/"
        },
        "id": "xrEHy0PZ1A0j",
        "outputId": "b61a2752-2b71-4702-fdb9-a58d9d6529af"
      },
      "outputs": [
        {
          "name": "stdout",
          "output_type": "stream",
          "text": [
            "Model: \"model_2\"\n",
            "__________________________________________________________________________________________________\n",
            " Layer (type)                   Output Shape         Param #     Connected to                     \n",
            "==================================================================================================\n",
            " input_3 (InputLayer)           [(None, 512, 512, 1  0           []                               \n",
            "                                )]                                                                \n",
            "                                                                                                  \n",
            " conv2d_48 (Conv2D)             (None, 512, 512, 64  640         ['input_3[0][0]']                \n",
            "                                )                                                                 \n",
            "                                                                                                  \n",
            " conv2d_49 (Conv2D)             (None, 512, 512, 64  36928       ['conv2d_48[0][0]']              \n",
            "                                )                                                                 \n",
            "                                                                                                  \n",
            " max_pooling2d_8 (MaxPooling2D)  (None, 256, 256, 64  0          ['conv2d_49[0][0]']              \n",
            "                                )                                                                 \n",
            "                                                                                                  \n",
            " conv2d_50 (Conv2D)             (None, 256, 256, 12  73856       ['max_pooling2d_8[0][0]']        \n",
            "                                8)                                                                \n",
            "                                                                                                  \n",
            " conv2d_51 (Conv2D)             (None, 256, 256, 12  147584      ['conv2d_50[0][0]']              \n",
            "                                8)                                                                \n",
            "                                                                                                  \n",
            " max_pooling2d_9 (MaxPooling2D)  (None, 128, 128, 12  0          ['conv2d_51[0][0]']              \n",
            "                                8)                                                                \n",
            "                                                                                                  \n",
            " conv2d_52 (Conv2D)             (None, 128, 128, 25  295168      ['max_pooling2d_9[0][0]']        \n",
            "                                6)                                                                \n",
            "                                                                                                  \n",
            " conv2d_53 (Conv2D)             (None, 128, 128, 25  590080      ['conv2d_52[0][0]']              \n",
            "                                6)                                                                \n",
            "                                                                                                  \n",
            " max_pooling2d_10 (MaxPooling2D  (None, 64, 64, 256)  0          ['conv2d_53[0][0]']              \n",
            " )                                                                                                \n",
            "                                                                                                  \n",
            " conv2d_54 (Conv2D)             (None, 64, 64, 512)  1180160     ['max_pooling2d_10[0][0]']       \n",
            "                                                                                                  \n",
            " conv2d_55 (Conv2D)             (None, 64, 64, 512)  2359808     ['conv2d_54[0][0]']              \n",
            "                                                                                                  \n",
            " dropout_4 (Dropout)            (None, 64, 64, 512)  0           ['conv2d_55[0][0]']              \n",
            "                                                                                                  \n",
            " max_pooling2d_11 (MaxPooling2D  (None, 32, 32, 512)  0          ['dropout_4[0][0]']              \n",
            " )                                                                                                \n",
            "                                                                                                  \n",
            " conv2d_56 (Conv2D)             (None, 32, 32, 1024  4719616     ['max_pooling2d_11[0][0]']       \n",
            "                                )                                                                 \n",
            "                                                                                                  \n",
            " conv2d_57 (Conv2D)             (None, 32, 32, 1024  9438208     ['conv2d_56[0][0]']              \n",
            "                                )                                                                 \n",
            "                                                                                                  \n",
            " dropout_5 (Dropout)            (None, 32, 32, 1024  0           ['conv2d_57[0][0]']              \n",
            "                                )                                                                 \n",
            "                                                                                                  \n",
            " up_sampling2d_8 (UpSampling2D)  (None, 64, 64, 1024  0          ['dropout_5[0][0]']              \n",
            "                                )                                                                 \n",
            "                                                                                                  \n",
            " conv2d_58 (Conv2D)             (None, 64, 64, 512)  2097664     ['up_sampling2d_8[0][0]']        \n",
            "                                                                                                  \n",
            " concatenate_8 (Concatenate)    (None, 64, 64, 1024  0           ['dropout_4[0][0]',              \n",
            "                                )                                 'conv2d_58[0][0]']              \n",
            "                                                                                                  \n",
            " conv2d_59 (Conv2D)             (None, 64, 64, 512)  4719104     ['concatenate_8[0][0]']          \n",
            "                                                                                                  \n",
            " conv2d_60 (Conv2D)             (None, 64, 64, 512)  2359808     ['conv2d_59[0][0]']              \n",
            "                                                                                                  \n",
            " up_sampling2d_9 (UpSampling2D)  (None, 128, 128, 51  0          ['conv2d_60[0][0]']              \n",
            "                                2)                                                                \n",
            "                                                                                                  \n",
            " conv2d_61 (Conv2D)             (None, 128, 128, 25  524544      ['up_sampling2d_9[0][0]']        \n",
            "                                6)                                                                \n",
            "                                                                                                  \n",
            " concatenate_9 (Concatenate)    (None, 128, 128, 51  0           ['conv2d_53[0][0]',              \n",
            "                                2)                                'conv2d_61[0][0]']              \n",
            "                                                                                                  \n",
            " conv2d_62 (Conv2D)             (None, 128, 128, 25  1179904     ['concatenate_9[0][0]']          \n",
            "                                6)                                                                \n",
            "                                                                                                  \n",
            " conv2d_63 (Conv2D)             (None, 128, 128, 25  590080      ['conv2d_62[0][0]']              \n",
            "                                6)                                                                \n",
            "                                                                                                  \n",
            " up_sampling2d_10 (UpSampling2D  (None, 256, 256, 25  0          ['conv2d_63[0][0]']              \n",
            " )                              6)                                                                \n",
            "                                                                                                  \n",
            " conv2d_64 (Conv2D)             (None, 256, 256, 12  131200      ['up_sampling2d_10[0][0]']       \n",
            "                                8)                                                                \n",
            "                                                                                                  \n",
            " concatenate_10 (Concatenate)   (None, 256, 256, 25  0           ['conv2d_51[0][0]',              \n",
            "                                6)                                'conv2d_64[0][0]']              \n",
            "                                                                                                  \n",
            " conv2d_65 (Conv2D)             (None, 256, 256, 12  295040      ['concatenate_10[0][0]']         \n",
            "                                8)                                                                \n",
            "                                                                                                  \n",
            " conv2d_66 (Conv2D)             (None, 256, 256, 12  147584      ['conv2d_65[0][0]']              \n",
            "                                8)                                                                \n",
            "                                                                                                  \n",
            " up_sampling2d_11 (UpSampling2D  (None, 512, 512, 12  0          ['conv2d_66[0][0]']              \n",
            " )                              8)                                                                \n",
            "                                                                                                  \n",
            " conv2d_67 (Conv2D)             (None, 512, 512, 64  32832       ['up_sampling2d_11[0][0]']       \n",
            "                                )                                                                 \n",
            "                                                                                                  \n",
            " concatenate_11 (Concatenate)   (None, 512, 512, 12  0           ['conv2d_49[0][0]',              \n",
            "                                8)                                'conv2d_67[0][0]']              \n",
            "                                                                                                  \n",
            " conv2d_68 (Conv2D)             (None, 512, 512, 64  73792       ['concatenate_11[0][0]']         \n",
            "                                )                                                                 \n",
            "                                                                                                  \n",
            " conv2d_69 (Conv2D)             (None, 512, 512, 64  36928       ['conv2d_68[0][0]']              \n",
            "                                )                                                                 \n",
            "                                                                                                  \n",
            " conv2d_70 (Conv2D)             (None, 512, 512, 2)  1154        ['conv2d_69[0][0]']              \n",
            "                                                                                                  \n",
            " conv2d_71 (Conv2D)             (None, 512, 512, 1)  3           ['conv2d_70[0][0]']              \n",
            "                                                                                                  \n",
            "==================================================================================================\n",
            "Total params: 31,031,685\n",
            "Trainable params: 31,031,685\n",
            "Non-trainable params: 0\n",
            "__________________________________________________________________________________________________\n"
          ]
        }
      ],
      "source": [
        "inputs = Input((img_size, img_size, 1))\n",
        "\n",
        "conv1 = Conv2D(64, 3, activation = 'relu', padding = 'same', kernel_initializer = 'he_normal')(inputs)\n",
        "conv1 = Conv2D(64, 3, activation = 'relu', padding = 'same', kernel_initializer = 'he_normal')(conv1)\n",
        "pool1 = MaxPooling2D(pool_size=(2, 2))(conv1)\n",
        "conv2 = Conv2D(128, 3, activation = 'relu', padding = 'same', kernel_initializer = 'he_normal')(pool1)\n",
        "conv2 = Conv2D(128, 3, activation = 'relu', padding = 'same', kernel_initializer = 'he_normal')(conv2)\n",
        "pool2 = MaxPooling2D(pool_size=(2, 2))(conv2)\n",
        "conv3 = Conv2D(256, 3, activation = 'relu', padding = 'same', kernel_initializer = 'he_normal')(pool2)\n",
        "conv3 = Conv2D(256, 3, activation = 'relu', padding = 'same', kernel_initializer = 'he_normal')(conv3)\n",
        "pool3 = MaxPooling2D(pool_size=(2, 2))(conv3)\n",
        "conv4 = Conv2D(512, 3, activation = 'relu', padding = 'same', kernel_initializer = 'he_normal')(pool3)\n",
        "conv4 = Conv2D(512, 3, activation = 'relu', padding = 'same', kernel_initializer = 'he_normal')(conv4)\n",
        "drop4 = Dropout(0.5)(conv4)\n",
        "pool4 = MaxPooling2D(pool_size=(2, 2))(drop4)\n",
        "\n",
        "conv5 = Conv2D(1024, 3, activation = 'relu', padding = 'same', kernel_initializer = 'he_normal')(pool4)\n",
        "conv5 = Conv2D(1024, 3, activation = 'relu', padding = 'same', kernel_initializer = 'he_normal')(conv5)\n",
        "drop5 = Dropout(0.5)(conv5)\n",
        "\n",
        "up6 = Conv2D(512, 2, activation = 'relu', padding = 'same', kernel_initializer = 'he_normal')(UpSampling2D(size = (2,2))(drop5))\n",
        "merge6 = concatenate([drop4,up6], axis = 3)\n",
        "conv6 = Conv2D(512, 3, activation = 'relu', padding = 'same', kernel_initializer = 'he_normal')(merge6)\n",
        "conv6 = Conv2D(512, 3, activation = 'relu', padding = 'same', kernel_initializer = 'he_normal')(conv6)\n",
        "\n",
        "up7 = Conv2D(256, 2, activation = 'relu', padding = 'same', kernel_initializer = 'he_normal')(UpSampling2D(size = (2,2))(conv6))\n",
        "merge7 = concatenate([conv3,up7], axis = 3)\n",
        "conv7 = Conv2D(256, 3, activation = 'relu', padding = 'same', kernel_initializer = 'he_normal')(merge7)\n",
        "conv7 = Conv2D(256, 3, activation = 'relu', padding = 'same', kernel_initializer = 'he_normal')(conv7)\n",
        "\n",
        "up8 = Conv2D(128, 2, activation = 'relu', padding = 'same', kernel_initializer = 'he_normal')(UpSampling2D(size = (2,2))(conv7))\n",
        "merge8 = concatenate([conv2,up8], axis = 3)\n",
        "conv8 = Conv2D(128, 3, activation = 'relu', padding = 'same', kernel_initializer = 'he_normal')(merge8)\n",
        "conv8 = Conv2D(128, 3, activation = 'relu', padding = 'same', kernel_initializer = 'he_normal')(conv8)\n",
        "\n",
        "up9 = Conv2D(64, 2, activation = 'relu', padding = 'same', kernel_initializer = 'he_normal')(UpSampling2D(size = (2,2))(conv8))\n",
        "merge9 = concatenate([conv1,up9], axis = 3)\n",
        "conv9 = Conv2D(64, 3, activation = 'relu', padding = 'same', kernel_initializer = 'he_normal')(merge9)\n",
        "conv9 = Conv2D(64, 3, activation = 'relu', padding = 'same', kernel_initializer = 'he_normal')(conv9)\n",
        "conv9 = Conv2D(2, 3, activation = 'relu', padding = 'same', kernel_initializer = 'he_normal')(conv9)\n",
        "conv10 = Conv2D(1, 1, activation = 'sigmoid')(conv9)\n",
        "\n",
        "model = Model(inputs,conv10)\n",
        "\n",
        "model.compile(optimizer = Adam(learning_rate = 1e-4),\n",
        "              loss = 'binary_crossentropy',\n",
        "              metrics = ['accuracy'])\n",
        "    \n",
        "model.summary()"
      ]
    },
    {
      "cell_type": "code",
      "execution_count": null,
      "metadata": {
        "colab": {
          "base_uri": "https://localhost:8080/"
        },
        "id": "5u2ZYQsA1Jmp",
        "outputId": "94880d14-76dd-417d-e09d-8f16ea06c6ed"
      },
      "outputs": [
        {
          "name": "stdout",
          "output_type": "stream",
          "text": [
            "Epoch 1/5\n",
            "600/600 [==============================] - ETA: 0s - loss: 0.0369 - accuracy: 0.9876WARNING:tensorflow:Your input ran out of data; interrupting training. Make sure that your dataset or generator can generate at least `steps_per_epoch * epochs` batches (in this case, 400 batches). You may need to use the repeat() function when building your dataset.\n",
            "600/600 [==============================] - 215s 356ms/step - loss: 0.0369 - accuracy: 0.9876 - val_loss: 0.0238 - val_accuracy: 0.9971\n",
            "Epoch 2/5\n",
            "600/600 [==============================] - 193s 321ms/step - loss: 0.0128 - accuracy: 0.9975\n",
            "Epoch 3/5\n",
            "200/600 [=========>....................] - ETA: 2:07 - loss: 0.0049 - accuracy: 0.9982WARNING:tensorflow:Your input ran out of data; interrupting training. Make sure that your dataset or generator can generate at least `steps_per_epoch * epochs` batches (in this case, 3000 batches). You may need to use the repeat() function when building your dataset.\n",
            "600/600 [==============================] - 64s 106ms/step - loss: 0.0049 - accuracy: 0.9982\n"
          ]
        },
        {
          "data": {
            "text/plain": [
              "<keras.callbacks.History at 0x7f104b873910>"
            ]
          },
          "execution_count": 24,
          "metadata": {},
          "output_type": "execute_result"
        }
      ],
      "source": [
        "model.fit(x_train,y_train,\n",
        "                    epochs=5,\n",
        "                    steps_per_epoch= 600,\n",
        "                    validation_data=(x_test, y_test),\n",
        "                    validation_steps= 400,\n",
        "                    shuffle=1)"
      ]
    },
    {
      "cell_type": "code",
      "execution_count": null,
      "metadata": {
        "id": "c-h--D6tw_CA"
      },
      "outputs": [],
      "source": [
        "# model.save('/content/bounding_box_segmentation_5.h5')"
      ]
    },
    {
      "cell_type": "code",
      "execution_count": null,
      "metadata": {
        "id": "qo9Dp4GS4zaz"
      },
      "outputs": [],
      "source": [
        "model = load_model('./MODEL/bounding_box_segmentation_5.h5')"
      ]
    },
    {
      "cell_type": "code",
      "execution_count": null,
      "metadata": {
        "id": "TJaXUwTc3DBb"
      },
      "outputs": [],
      "source": [
        "#Prediction.\n",
        "file_test ='/content/KTP.jpg'\n",
        "img=cv2.imread(file_test,0)\n",
        "ret,img=cv2.threshold(img,150,255,cv2.THRESH_BINARY_INV)\n",
        "img=cv2.resize(img,(512,512))\n",
        "img=np.expand_dims(img,axis=-1)\n",
        "img=img/255\n",
        "\n",
        "img=np.expand_dims(img,axis=0)\n",
        "pred=model.predict(img)\n",
        "pred=np.squeeze(np.squeeze(pred,axis=0),axis=-1)\n",
        "plt.imshow(pred,cmap='gray')\n",
        "plt.imsave('/content/test_img_mask.png',pred)\n",
        "\n",
        "img = cv2.imread('/content/test_img_mask.png',0) \n",
        "print(img.shape)\n",
        "cv2.threshold(img,0,255,cv2.THRESH_BINARY+cv2.THRESH_OTSU,img)\n",
        "ori_img = cv2.imread(file_test)\n",
        "ori_img = cv2.cvtColor(ori_img, cv2.COLOR_BGR2RGB)\n",
        "ori_img = cv2.resize(ori_img, (512,512))\n",
        "\n",
        "roi_img = []\n",
        "\n",
        "roi_number = 0\n",
        "contours, hier = cv2.findContours(img, cv2.RETR_EXTERNAL,cv2.CHAIN_APPROX_NONE)\n",
        "contours = sorted(contours, key = lambda x: cv2.boundingRect(x)[0] + cv2.boundingRect(x)[1] * img.shape[1])\n",
        "for c in contours:\n",
        "    # get the bounding rect\n",
        "    x, y, w, h = cv2.boundingRect(c)\n",
        "    if w > 40:\n",
        "    # draw a white rectangle to visualize the bounding rect\n",
        "      cv2.rectangle(ori_img, (x, y), (x + w, y + h), (36,255,12), 2)\n",
        "      ROI = ori_img[y:y+h, x:x+w]\n",
        "      roi_img.append(ROI)\n",
        "      # cv2.imwrite('/content/test_{}.png'.format(roi_number), ROI)\n",
        "      roi_number += 1\n",
        "    #coordinates.append([x,y,(x+w),(y+h)])\n",
        "\n",
        "#cv2.drawContours(img, contours, -1, (255, 255, 0), 1)\n",
        "\n",
        "plt.imshow(ori_img)\n",
        "plt.show()"
      ]
    }
  ],
  "metadata": {
    "colab": {
      "collapsed_sections": [],
      "name": "(Fix)_Unet_Bounding_Box.ipynb",
      "provenance": []
    },
    "kernelspec": {
      "display_name": "Python 3.8.0 64-bit",
      "language": "python",
      "name": "python3"
    },
    "language_info": {
      "codemirror_mode": {
        "name": "ipython",
        "version": 3
      },
      "file_extension": ".py",
      "mimetype": "text/x-python",
      "name": "python",
      "nbconvert_exporter": "python",
      "pygments_lexer": "ipython3",
      "version": "3.8.0"
    },
    "vscode": {
      "interpreter": {
        "hash": "cb575880da7fb1b63f39f76a29ec1124782f92e8ba6b24ca6b4135e5a600188f"
      }
    }
  },
  "nbformat": 4,
  "nbformat_minor": 0
}
